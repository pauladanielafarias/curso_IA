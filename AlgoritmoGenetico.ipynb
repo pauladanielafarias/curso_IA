{
 "cells": [
  {
   "cell_type": "markdown",
   "id": "medical-silicon",
   "metadata": {},
   "source": []
  },
  {
   "cell_type": "markdown",
   "id": "czech-granny",
   "metadata": {},
   "source": [
    "Comenzamos por importar las librerías correspondientes"
   ]
  },
  {
   "cell_type": "code",
   "execution_count": 54,
   "id": "undefined-impression",
   "metadata": {},
   "outputs": [],
   "source": [
    "import random\n",
    "import string\n",
    "from fuzzywuzzy import fuzz"
   ]
  },
  {
   "cell_type": "markdown",
   "id": "nominated-camel",
   "metadata": {},
   "source": [
    "Luego definimos las variables que utilizaremos como parámetros generales del algoritmo"
   ]
  },
  {
   "cell_type": "code",
   "execution_count": 48,
   "id": "phantom-visitor",
   "metadata": {},
   "outputs": [],
   "source": [
    "in_str = None\n",
    "in_str_len = None\n",
    "population = 20\n",
    "generations = 1000"
   ]
  },
  {
   "cell_type": "raw",
   "id": "blind-architect",
   "metadata": {},
   "source": []
  },
  {
   "cell_type": "code",
   "execution_count": 4,
   "id": "atlantic-terrain",
   "metadata": {},
   "outputs": [],
   "source": [
    "#definición de cómo son los individuos\n",
    "\n",
    "class Agent:\n",
    "\n",
    "    def __init__(self, length):\n",
    "        self.string = \"\".join(random.choice(string.ascii_letters) for _ in range(length))\n",
    "        self.fitness = -1\n",
    "\n",
    "    def __str__(self):\n",
    "        return \"String: \" + str(self.string) + \" aptitud: \" + str(self.fitness) \n"
   ]
  },
  {
   "cell_type": "code",
   "execution_count": null,
   "id": "ordered-johnson",
   "metadata": {},
   "outputs": [],
   "source": []
  },
  {
   "cell_type": "code",
   "execution_count": 5,
   "id": "changed-atmosphere",
   "metadata": {},
   "outputs": [],
   "source": [
    "#generación del ciclo evaluación, selección, cruzamiento, mutación de los individuos\n",
    "\n",
    "def ga():\n",
    "    agents = init_agents(population,in_str_len)\n",
    "\n",
    "    threshold = False    \n",
    "    for generation in range(generations):\n",
    "            \n",
    "\n",
    "        agents = fitness(agents)\n",
    "        agents = selection(agents)\n",
    "        agents = crossover(agents)\n",
    "        agents = mutation(agents)\n",
    "\n",
    "        for agent in agents:\n",
    "            if agent.fitness == 100:\n",
    "                print (\"Generación \" + str(generation) + \". Convergió: \" + str(agent))\n",
    "                threshold = True\n",
    "        if threshold:\n",
    "            break\n",
    "        else:\n",
    "            print (\"Generación \" + str(generation) + \": \" + str(agents[0]))\n",
    "        \n",
    "\n",
    "                "
   ]
  },
  {
   "cell_type": "code",
   "execution_count": null,
   "id": "outdoor-interface",
   "metadata": {},
   "outputs": [],
   "source": []
  },
  {
   "cell_type": "code",
   "execution_count": 6,
   "id": "binary-steps",
   "metadata": {},
   "outputs": [],
   "source": [
    "#iniciar/generar la población inicial\n",
    "#return: creación de un agente (objeto) que tiene la longitud que ingresa por parámetro desde la funcion, de manera iterativa en el rango 0 a population\n",
    "def init_agents(population,length):\n",
    "    return [Agent(length) for _ in range(population)]\n",
    "\n",
    "\n",
    "def fitness(agents):\n",
    "    for agent in agents:\n",
    "        agent.fitness = fuzz.ratio(agent.string, in_str)\n",
    "    return agents\n",
    "\n",
    "def selection(agents):\n",
    "    agents = sorted(agents, key=lambda agent: agent.fitness, reverse=True)\n",
    "    agents = agents[:int(0.2 * len(agents))]\n",
    "    return agents\n",
    "\n",
    "def crossover(agents):\n",
    "    offspring = []\n",
    "    for _ in  range(int((population - len(agents)) / 2)):\n",
    "        parent1 = random.choice(agents)\n",
    "        parent2 = random.choice(agents)\n",
    "        child1 =  Agent(in_str_len)\n",
    "        child2 =  Agent(in_str_len)\n",
    "        split = random.randint(0, in_str_len)\n",
    "        child1.string = parent1.string[0:split] + parent2.string[split:in_str_len]\n",
    "        child2.string = parent2.string[0:split] + parent1.string[split:in_str_len]\n",
    "\n",
    "        offspring.append(child1)\n",
    "        offspring.append(child2)\n",
    "\n",
    "    agents.extend(offspring)\n",
    "\n",
    "    return agents\n",
    "\n",
    "def mutation(agents):\n",
    "    for agent in agents:\n",
    "        for idx, param in enumerate(agent.string):\n",
    "            if random.uniform(0.0, 1.0) <= 0.1:\n",
    "                agent.string = agent.string[0:idx] + random.choice(string.ascii_letters) + agent.string[idx+1:in_str_len]\n",
    "    return agents"
   ]
  },
  {
   "cell_type": "code",
   "execution_count": null,
   "id": "divided-redhead",
   "metadata": {},
   "outputs": [],
   "source": []
  },
  {
   "cell_type": "code",
   "execution_count": 53,
   "id": "flexible-passage",
   "metadata": {},
   "outputs": [
    {
     "name": "stdout",
     "output_type": "stream",
     "text": [
      "Generación 0: String: naVc aptitud: 25\n",
      "Generación 1: String: naVa aptitud: 50\n",
      "Generación 2: String: naBa aptitud: 50\n",
      "Generación 3: String: naBa aptitud: 50\n",
      "Generación 4: String: caVa aptitud: 75\n",
      "Generación 5: String: caVa aptitud: 75\n",
      "Generación 6: String: UaVa aptitud: 75\n",
      "Generación 7: String: csVa aptitud: 75\n",
      "Generación 8: String: cpVa aptitud: 75\n",
      "Generación 9: String: caua aptitud: 75\n",
      "Generación 10: String: caua aptitud: 75\n",
      "Generación 11: String: caua aptitud: 75\n",
      "Generación 12: String: caua aptitud: 75\n",
      "Generación 13: String: caDa aptitud: 75\n",
      "Generación 14: String: QaDa aptitud: 75\n",
      "Generación 15: String: caLa aptitud: 75\n",
      "Generación 16: String: caLa aptitud: 75\n",
      "Generación 17: String: caLa aptitud: 75\n",
      "Generación 18: String: cBLa aptitud: 75\n",
      "Generación 19: String: caoa aptitud: 75\n",
      "Generación 20: String: caoa aptitud: 75\n",
      "Generación 21: String: caoa aptitud: 75\n",
      "Generación 22: String: caoa aptitud: 75\n",
      "Generación 23: String: caop aptitud: 75\n",
      "Generación 24: String: caNa aptitud: 75\n",
      "Generación 25: String: ceNa aptitud: 75\n",
      "Generación 26: String: cTNa aptitud: 75\n",
      "Generación 27. Convergió: String: casa aptitud: 100\n"
     ]
    }
   ],
   "source": [
    "#correrá el algoritmo genético\n",
    "in_str = \"casa\"\n",
    "in_str_len = len(in_str)\n",
    "ga()"
   ]
  },
  {
   "cell_type": "code",
   "execution_count": null,
   "id": "increased-hearing",
   "metadata": {},
   "outputs": [],
   "source": []
  },
  {
   "cell_type": "code",
   "execution_count": null,
   "id": "tamil-speaker",
   "metadata": {},
   "outputs": [],
   "source": []
  }
 ],
 "metadata": {
  "hide_input": false,
  "kernelspec": {
   "display_name": "Python 3",
   "language": "python",
   "name": "python3"
  },
  "language_info": {
   "codemirror_mode": {
    "name": "ipython",
    "version": 3
   },
   "file_extension": ".py",
   "mimetype": "text/x-python",
   "name": "python",
   "nbconvert_exporter": "python",
   "pygments_lexer": "ipython3",
   "version": "3.8.5"
  },
  "varInspector": {
   "cols": {
    "lenName": 16,
    "lenType": 16,
    "lenVar": 40
   },
   "kernels_config": {
    "python": {
     "delete_cmd_postfix": "",
     "delete_cmd_prefix": "del ",
     "library": "var_list.py",
     "varRefreshCmd": "print(var_dic_list())"
    },
    "r": {
     "delete_cmd_postfix": ") ",
     "delete_cmd_prefix": "rm(",
     "library": "var_list.r",
     "varRefreshCmd": "cat(var_dic_list()) "
    }
   },
   "types_to_exclude": [
    "module",
    "function",
    "builtin_function_or_method",
    "instance",
    "_Feature"
   ],
   "window_display": false
  }
 },
 "nbformat": 4,
 "nbformat_minor": 5
}
