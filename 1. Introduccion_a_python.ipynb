{
 "cells": [
  {
   "cell_type": "markdown",
   "metadata": {},
   "source": [
    "# Introduction to Python"
   ]
  },
  {
   "cell_type": "markdown",
   "metadata": {},
   "source": [
    "Este notebook contiene algunos ejercicios de programación que lo equiparán con las habilidades de programación que necesita para los próximos talleres. No tenga miedo de cometer errores. Cometer errores durante la codificación es perfectamente normal. Es más importante que aprenda a corregir esos errores. Si está trabado en alguno de los ejercicios, comience primero por buscar soluciones similares en internet, seguro encontrará la respuesta. Si no puede hallarla, pida ayuda a sus compañeros, o al profesor en clase."
   ]
  },
  {
   "cell_type": "markdown",
   "metadata": {},
   "source": [
    "Las listas son variables que le permiten almacenar más de un valor.\n",
    "\n",
    "Antes de comenzar a codificar, aquí hay algunas propiedades importantes sobre las listas:\n",
    "1. Las listas se definen con corchetes []\n",
    "2. Las listas pueden contener cadenas, números enteros, flotantes, booleanos o cualquier combinación de estos.\n",
    "3. Los elementos de una lista están separados por comas,\n",
    "\n",
    "Con las 3 propiedades en mente, ¡comencemos a codificar!\n",
    "Mire el código a continuación e intente ejecutarlo."
   ]
  },
  {
   "cell_type": "code",
   "execution_count": 19,
   "metadata": {
    "ExecuteTime": {
     "end_time": "2021-03-04T19:27:51.135204Z",
     "start_time": "2021-03-04T19:27:51.128165Z"
    },
    "code_folding": [],
    "hide_input": false
   },
   "outputs": [
    {
     "name": "stdout",
     "output_type": "stream",
     "text": [
      "Una lista vacía:  []\n"
     ]
    }
   ],
   "source": [
    "# Crear una lista vacía\n",
    "\n",
    "listaDeEjemplo = []\n",
    "print(\"Una lista vacía: \", listaDeEjemplo)"
   ]
  },
  {
   "cell_type": "code",
   "execution_count": 13,
   "metadata": {
    "ExecuteTime": {
     "end_time": "2021-03-04T18:55:12.029294Z",
     "start_time": "2021-03-04T18:55:12.023945Z"
    },
    "hide_input": false
   },
   "outputs": [
    {
     "name": "stdout",
     "output_type": "stream",
     "text": [
      "Roberto debería aparecer en la lista: ['Roberto']\n"
     ]
    }
   ],
   "source": [
    "#.append() es una función que le permite agregar valores a una lista\n",
    "\n",
    "listaDeEjemplo.append(\"Roberto\")\n",
    "print (\"Roberto debería aparecer en la lista:\", listaDeEjemplo)"
   ]
  },
  {
   "cell_type": "code",
   "execution_count": 14,
   "metadata": {
    "ExecuteTime": {
     "end_time": "2021-03-04T18:55:20.177457Z",
     "start_time": "2021-03-04T18:55:20.169949Z"
    }
   },
   "outputs": [
    {
     "name": "stdout",
     "output_type": "stream",
     "text": [
      "La lista puede contener diferentes tipos de datos y los elementos de una lista están separados por comas:  ['Roberto', False, 9, 10.5]\n"
     ]
    }
   ],
   "source": [
    "# La lista puede contener cadenas, enteros, flotantes, booleanos o cualquier combinación de ellos\n",
    "\n",
    "listaDeEjemplo.append(False)\n",
    "listaDeEjemplo.append(9)\n",
    "listaDeEjemplo.append(10.5)\n",
    "\n",
    "print (\"La lista puede contener diferentes tipos de datos y los elementos de una lista están separados por comas: \", listaDeEjemplo)"
   ]
  },
  {
   "cell_type": "markdown",
   "metadata": {},
   "source": [
    "¡Pregunta de práctica!\n",
    "1. Asigne los siguientes números a una lista definida como \"X1\". Los números son 4, 1, 5, 7.\n",
    "2. Ahora, cambie el tercer número de 5 a 10. Imprima X1 para confirmar que ha cambiado el número.\n",
    "3. Sume un valor de 2 a todos los elementos de la lista en la celda siguiente. Imprima X1 nuevamente para confirmar la adición. "
   ]
  },
  {
   "cell_type": "code",
   "execution_count": 15,
   "metadata": {
    "ExecuteTime": {
     "end_time": "2021-03-04T18:55:48.203631Z",
     "start_time": "2021-03-04T18:55:48.196087Z"
    },
    "code_folding": []
   },
   "outputs": [
    {
     "name": "stdout",
     "output_type": "stream",
     "text": [
      "[4, 1, 5, 7]\n",
      "[4, 1, 10, 7]\n",
      "[6, 3, 12, 9]\n"
     ]
    }
   ],
   "source": [
    "# HACER: Asignar números 4,1,5,7 a la lista X1.\n",
    "X1 = [4,1,5,7]\n",
    "print(X1)\n",
    "\n",
    "\n",
    "# HACER: Cambiar el tercer número (5) a 10. \n",
    "\n",
    "X1[2]=10\n",
    "print(X1)\n",
    "\n",
    "\n",
    "# TODO: sumar 2 a todos los ítems de la lista (pista: usar un ciclo \"for\". Está permitido buscar en internet cómo hacerlo!)\n",
    "\n",
    "i = 0\n",
    "for x in X1:\n",
    "    x = x+2\n",
    "    X1[i]=x\n",
    "    i = i+1\n",
    "\n",
    "print(X1)"
   ]
  },
  {
   "cell_type": "markdown",
   "metadata": {},
   "source": [
    "Resultados esperados:\n",
    "1. [4, 1, 5, 7]\n",
    "2. [4, 1, 10, 7]\n",
    "3. [6, 3, 12, 9]"
   ]
  },
  {
   "cell_type": "markdown",
   "metadata": {},
   "source": [
    "¡Muy bien!\n",
    "\n",
    "Ahora intentemos aplicar estadísticas básicas en Python.\n",
    "\n",
    "Calcular la media de los datos proporcionados. https://es.wikipedia.org/wiki/Media_(matem%C3%A1ticas)\n",
    "\n",
    "Encontrar la mediana de los datos proporcionados.\n",
    "https://es.wikipedia.org/wiki/Mediana_(estad%C3%ADstica)\n",
    "\n",
    "Encontrar la moda de los datos proporcionados.\n",
    "https://es.wikipedia.org/wiki/Moda_(estad%C3%ADstica)#:~:text=En%20la%20estad%C3%ADstica%2C%20la%20moda,la%20que%20encontramos%20tres%20modas.\n"
   ]
  },
  {
   "cell_type": "code",
   "execution_count": 16,
   "metadata": {
    "ExecuteTime": {
     "end_time": "2021-03-04T18:56:42.118743Z",
     "start_time": "2021-03-04T18:56:42.110129Z"
    },
    "code_folding": []
   },
   "outputs": [
    {
     "name": "stdout",
     "output_type": "stream",
     "text": [
      "El numero de items es: 14\n",
      "Suma de items: 93\n",
      "La media es: 6.64\n"
     ]
    }
   ],
   "source": [
    "# Aquí está el conjunto de datos para las preguntas de desafío:\n",
    "dataset = [2, 1, 1, 4, 5, 8, 12, 4, 3, 8, 21, 1, 18, 5]\n",
    "\n",
    "# Hacer: Calcular la media de los datos proporcionados.\n",
    "# Paso 1: averigüe la cantidad de elementos de la lista\n",
    "\n",
    "i=1\n",
    "for num in dataset:\n",
    "    numero_de_items= i\n",
    "    i = i+1\n",
    "\n",
    "# tambien se puede usar numero_de_items = len(dataset)\n",
    "\n",
    "print('El numero de items es: ' + str(numero_de_items))\n",
    "\n",
    "\n",
    "# Paso 2: calcule la suma de los elementos de la lista. Intente hacer esto con la función loop.\n",
    "\n",
    "suma_de_items = 0\n",
    "for num in dataset:\n",
    "    suma_de_items = suma_de_items + num\n",
    "\n",
    "print('Suma de items: ' + str(suma_de_items))\n",
    "\n",
    "\n",
    "# Paso 3: Calcule la media\n",
    "\n",
    "media = round((suma_de_items/numero_de_items),2)\n",
    "print('La media es: '+str(media))\n",
    "\n",
    "#si se necesita, resetear los valores para que no los vuelva a sumar cada vez que se corre la celda\n",
    "#suma_de_items=0\n",
    "#numero_de_items=0"
   ]
  },
  {
   "cell_type": "code",
   "execution_count": 10,
   "metadata": {
    "ExecuteTime": {
     "end_time": "2021-03-04T18:54:28.037135Z",
     "start_time": "2021-03-04T18:54:28.026586Z"
    }
   },
   "outputs": [
    {
     "name": "stdout",
     "output_type": "stream",
     "text": [
      "[1, 1, 1, 2, 3, 4, 4, 5, 5, 8, 8, 12, 18, 21]\n",
      "7\n",
      "4\n"
     ]
    }
   ],
   "source": [
    "# Hacer: Encuentre la mediana de los datos proporcionados. (SUGERENCIA: reorganice los elementos de la lista)\n",
    "# Paso 1: reorganice los elementos de la lista en orden ascendente, es decir (1,1,1,2,3,4,4,5,5,8,8,12,18,21)\n",
    "\n",
    "dataset.sort()\n",
    "print(dataset)\n",
    "\n",
    "# Paso 2: Encuentre la posición del elemento que se encuentra en el medio de la lista\n",
    "\n",
    "indice_medio = numero_de_items / 2\n",
    "indice_medio = int(indice_medio)\n",
    "print(indice_medio)\n",
    "\n",
    "# Step 3: Encuentre la mediana\n",
    "\n",
    "mediana = dataset[indice_medio - 1]\n",
    "print(mediana)"
   ]
  },
  {
   "cell_type": "code",
   "execution_count": 17,
   "metadata": {
    "ExecuteTime": {
     "end_time": "2021-03-04T18:57:44.281281Z",
     "start_time": "2021-03-04T18:57:44.273921Z"
    }
   },
   "outputs": [
    {
     "name": "stdout",
     "output_type": "stream",
     "text": [
      "1\n"
     ]
    }
   ],
   "source": [
    "# Hacer: Encuentre la moda de los datos proporcionados (SUGERENCIA: use max())\n",
    "\n",
    "moda = max(dataset, key = dataset.count)\n",
    "print(moda)"
   ]
  },
  {
   "cell_type": "code",
   "execution_count": null,
   "metadata": {},
   "outputs": [],
   "source": []
  }
 ],
 "metadata": {
  "kernelspec": {
   "display_name": "Python 3",
   "language": "python",
   "name": "python3"
  },
  "language_info": {
   "codemirror_mode": {
    "name": "ipython",
    "version": 3
   },
   "file_extension": ".py",
   "mimetype": "text/x-python",
   "name": "python",
   "nbconvert_exporter": "python",
   "pygments_lexer": "ipython3",
   "version": "3.8.5"
  },
  "toc": {
   "base_numbering": 1,
   "nav_menu": {},
   "number_sections": true,
   "sideBar": true,
   "skip_h1_title": false,
   "title_cell": "Table of Contents",
   "title_sidebar": "Contents",
   "toc_cell": false,
   "toc_position": {},
   "toc_section_display": true,
   "toc_window_display": false
  },
  "varInspector": {
   "cols": {
    "lenName": 16,
    "lenType": 16,
    "lenVar": 40
   },
   "kernels_config": {
    "python": {
     "delete_cmd_postfix": "",
     "delete_cmd_prefix": "del ",
     "library": "var_list.py",
     "varRefreshCmd": "print(var_dic_list())"
    },
    "r": {
     "delete_cmd_postfix": ") ",
     "delete_cmd_prefix": "rm(",
     "library": "var_list.r",
     "varRefreshCmd": "cat(var_dic_list()) "
    }
   },
   "oldHeight": 122,
   "position": {
    "height": "144px",
    "left": "802px",
    "right": "20px",
    "top": "133px",
    "width": "350px"
   },
   "types_to_exclude": [
    "module",
    "function",
    "builtin_function_or_method",
    "instance",
    "_Feature"
   ],
   "varInspector_section_display": "block",
   "window_display": false
  }
 },
 "nbformat": 4,
 "nbformat_minor": 4
}
